{
 "cells": [
  {
   "cell_type": "code",
   "execution_count": 23,
   "metadata": {
    "collapsed": true
   },
   "outputs": [],
   "source": [
    "import math\n",
    "import numpy as np\n",
    "import pandas as pd\n",
    "import matplotlib.pyplot as plt\n",
    "import time "
   ]
  },
  {
   "cell_type": "code",
   "execution_count": 24,
   "metadata": {
    "collapsed": true
   },
   "outputs": [],
   "source": [
    "class market_position(object):\n",
    "    def __init__(self, sigma, ell, v=0.01):\n",
    "        '''Initialize the simulator, v is the spread, we assume it is constant for now.'''\n",
    "\n",
    "        # constant parameters\n",
    "        self.sigma = sigma\n",
    "        self.ell = ell\n",
    "        self.dt = 1\n",
    "        self.spread = v\n",
    "        self.transaction_p = 0.7\n",
    "        self.inventory_limit = 100\n",
    "        self.reverse_selection_factor = 0.0001\n",
    "\n",
    "        # list to contain historical movements of variables\n",
    "        self.value = 10000\n",
    "        self.x = 10\n",
    "        self.bid = 9.75\n",
    "        self.ask = 10.25\n",
    "        self.q = 0\n",
    "        self.cash = 10000\n",
    "        #initial_skew = findMaxSkew(self.mu, self.sigma, self.x[-1], self.ell, self.cash[-1], self.q[-1], self.spread, self.dt)\n",
    "        initial_skew = 0.5\n",
    "        self.skew = initial_skew\n",
    "        self.Pbuy = initial_skew\n",
    "\n",
    "    def __repr__(self):\n",
    "        '''Representation'''\n",
    "        result = \"\"\n",
    "        result += \"Final stock price is: \" + str(self.x) + \"\\n\"\n",
    "        result += \"Final inventory is: \" + str(self.q) + \"\\n\"\n",
    "        result += \"Final cash account is: \" + str(self.cash) + \"\\n\"\n",
    "        result += \"Final P&L is: \" + str(self.value - 10000)\n",
    "        return result\n",
    "    \n",
    "    def set_skew(self, skew):\n",
    "        '''Set a new skewness of bid ask spread'''\n",
    "        self.skew = skew\n",
    "\n",
    "    def get_accumulated_value(self, t):\n",
    "        '''Show hist P&L'''\n",
    "        return self.value\n",
    "    \n",
    "    def transaction_coming(self):\n",
    "        '''Return True as a transaction has arrived, return False as no transaction coming.'''\n",
    "        return np.random.binomial(1, self.transaction_p) == 1\n",
    "    \n",
    "    def buy_sell(self):\n",
    "        '''Return True as buy transaction, return False as sell transaction'''\n",
    "        return np.random.binomial(1, self.Pbuy) == 1\n",
    "    \n",
    "    def new_stock_price(self):\n",
    "        '''Return stock price change as a geometric brownian motion'''\n",
    "        return self.x * math.exp((-1 * (self.sigma ** 2) / 2) * self.dt + self.sigma * np.random.normal() * math.sqrt(self.dt))\n",
    "    \n",
    "    def simulate_one_3tree(self):\n",
    "        '''Simulate one time foreward. This method simulated stock price in 3 branches tree'''\n",
    "        # simulate incoming transaction, if there is, adjust inventory and cash account\n",
    "        transaction = self.transaction_coming()\n",
    "        buy = self.buy_sell()\n",
    "        if self.transaction_coming() and buy and self.q <= self.inventory_limit:\n",
    "            self.q = self.q + 1\n",
    "            self.cash = self.cash - self.bid\n",
    "            self.x = self.x * (1 - self.reverse_selection_factor)\n",
    "        elif self.transaction_coming() and (not buy) and self.q >= (-1 * self.inventory_limit):\n",
    "            self.q = self.q - 1\n",
    "            self.cash = self.cash + self.ask\n",
    "            self.x = self.x * (1 + self.reverse_selection_factor)\n",
    "\n",
    "        self.x = self.new_stock_price()\n",
    "        \n",
    "        self.value = self.q * self.x + self.cash\n",
    "        \n",
    "        new_skew = findMaxSkew(self.sigma, self.x, self.ell, self.cash, self.q, self.spread, self.dt)\n",
    "        self.skew = new_skew\n",
    "        self.Pbuy = self.skew\n",
    "        self.ask = self.x + self.spread * (3 / 2 - 2 * self.skew)\n",
    "        self.bid = self.x + self.spread * (1 / 2 - 2 * self.skew)\n",
    "        \n",
    "    def n_simulate(self, n):\n",
    "        '''simulate n steps'''\n",
    "        for i in range(n):\n",
    "            self.simulate_one_3tree()\n",
    "            if self.Pbuy < 0:\n",
    "                break\n",
    "            if self.value - 10000 < -1 * self.ell:\n",
    "                break\n"
   ]
  },
  {
   "cell_type": "code",
   "execution_count": 25,
   "metadata": {
    "collapsed": true
   },
   "outputs": [],
   "source": [
    "def findMaxSkew(sigma,x,ell,cash,Q,vx,dt):\n",
    "    return 0.5"
   ]
  },
  {
   "cell_type": "code",
   "execution_count": 28,
   "metadata": {},
   "outputs": [
    {
     "name": "stdout",
     "output_type": "stream",
     "text": [
      "[ -50.90423878  -50.69188988  -50.53227196  -50.52716102  -50.49299587\n",
      "  -50.37172216  -50.29036514  -50.26579691  -50.23439959  -50.21569267\n",
      "  -13.11031241    7.48229866    8.5590466     8.69147348    8.76222017\n",
      "    9.37664046   18.6104428    24.27276862   27.32846955   28.61200451\n",
      "   29.93990113   35.22714877   37.40253946   38.89403249   41.18192208\n",
      "   42.56578066   51.24459629   56.91109958   65.91193674   68.2549469\n",
      "   69.60265843   71.78237357   73.87960047   76.88641413   83.43322911\n",
      "   91.33558152   92.33910837   95.52923291   97.67704025  107.34788282\n",
      "  117.229027    117.67733618  140.48481919  142.39244195  142.48228603\n",
      "  150.34031732  163.09780053  166.90287028  217.50726189  345.23035727]\n",
      "Time used:  18.647104999999982\n"
     ]
    },
    {
     "data": {
      "image/png": "[encoded data removed]",
      "text/plain": [
       "<matplotlib.figure.Figure at 0x11bf12a20>"
      ]
     },
     "metadata": {},
     "output_type": "display_data"
    }
   ],
   "source": [
    "if __name__ == \"__main__\":\n",
    "    tic = time.clock()\n",
    "    result = []\n",
    "    for i in range(50):\n",
    "        market = market_position(0.001, 50)\n",
    "        market.n_simulate(18000)\n",
    "        \n",
    "        result.append(market.value - 10000)\n",
    "    toc = time.clock()\n",
    "    \n",
    "    print(np.array(sorted(result)))\n",
    "    \n",
    "    print('Time used: ', toc - tic)\n",
    "    \n",
    "    plt.hist(result)\n",
    "    plt.title(\"PnL\")\n",
    "    plt.xlabel(\"PnL\")\n",
    "    plt.ylabel(\"Frequency\")\n",
    "\n",
    "    plt.show()"
   ]
  },
  {
   "cell_type": "code",
   "execution_count": null,
   "metadata": {
    "collapsed": true
   },
   "outputs": [],
   "source": []
  }
 ],
 "metadata": {
  "kernelspec": {
   "display_name": "Python 3",
   "language": "python",
   "name": "python3"
  },
  "language_info": {
   "codemirror_mode": {
    "name": "ipython",
    "version": 3
   },
   "file_extension": ".py",
   "mimetype": "text/x-python",
   "name": "python",
   "nbconvert_exporter": "python",
   "pygments_lexer": "ipython3",
   "version": "3.6.1"
  }
 },
 "nbformat": 4,
 "nbformat_minor": 2
}
